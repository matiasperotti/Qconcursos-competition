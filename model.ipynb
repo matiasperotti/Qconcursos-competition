{
 "cells": [
  {
   "cell_type": "code",
   "execution_count": 3,
   "metadata": {},
   "outputs": [],
   "source": [
    "import pandas as pd \n",
    "import numpy as np \n",
    "import matplotlib.pyplot as plt \n",
    "import seaborn as sns \n",
    "import sklearn"
   ]
  },
  {
   "cell_type": "code",
   "execution_count": 4,
   "metadata": {},
   "outputs": [
    {
     "name": "stderr",
     "output_type": "stream",
     "text": [
      "/tmp/ipykernel_120544/254481493.py:1: DtypeWarning: Columns (9,10,12) have mixed types. Specify dtype option on import or set low_memory=False.\n",
      "  dt = pd.read_csv('./data/Dataset_model.csv')\n"
     ]
    }
   ],
   "source": [
    "dt = pd.read_csv('./data/Dataset_model.csv')"
   ]
  },
  {
   "cell_type": "code",
   "execution_count": 5,
   "metadata": {},
   "outputs": [],
   "source": [
    "dtsubmit = pd.read_csv('./data/Submit.csv', sep = ';')"
   ]
  },
  {
   "cell_type": "code",
   "execution_count": 7,
   "metadata": {},
   "outputs": [
    {
     "data": {
      "text/html": [
       "<div>\n",
       "<style scoped>\n",
       "    .dataframe tbody tr th:only-of-type {\n",
       "        vertical-align: middle;\n",
       "    }\n",
       "\n",
       "    .dataframe tbody tr th {\n",
       "        vertical-align: top;\n",
       "    }\n",
       "\n",
       "    .dataframe thead th {\n",
       "        text-align: right;\n",
       "    }\n",
       "</style>\n",
       "<table border=\"1\" class=\"dataframe\">\n",
       "  <thead>\n",
       "    <tr style=\"text-align: right;\">\n",
       "      <th></th>\n",
       "      <th>novo_user_id</th>\n",
       "      <th>city</th>\n",
       "      <th>country</th>\n",
       "      <th>device</th>\n",
       "      <th>device_type</th>\n",
       "      <th>os</th>\n",
       "      <th>platform</th>\n",
       "      <th>region</th>\n",
       "      <th>gp:carrers</th>\n",
       "      <th>gp:college type</th>\n",
       "      <th>...</th>\n",
       "      <th>institute_id</th>\n",
       "      <th>knowledge_area_id</th>\n",
       "      <th>modality_id</th>\n",
       "      <th>nullified</th>\n",
       "      <th>outdated</th>\n",
       "      <th>product_id</th>\n",
       "      <th>publication_year</th>\n",
       "      <th>right_answer</th>\n",
       "      <th>scholarity_id</th>\n",
       "      <th>novo_question_id</th>\n",
       "    </tr>\n",
       "  </thead>\n",
       "  <tbody>\n",
       "    <tr>\n",
       "      <th>0</th>\n",
       "      <td>1</td>\n",
       "      <td>Rio de Janeiro</td>\n",
       "      <td>Brazil</td>\n",
       "      <td>Apple iPhone</td>\n",
       "      <td>Apple iPhone 11 Pro Max</td>\n",
       "      <td>ios 15.4.1</td>\n",
       "      <td>iOS</td>\n",
       "      <td>Rio de Janeiro</td>\n",
       "      <td>Tribunal, Administrativa</td>\n",
       "      <td>NaN</td>\n",
       "      <td>...</td>\n",
       "      <td>4126.0</td>\n",
       "      <td>13.0</td>\n",
       "      <td>1.0</td>\n",
       "      <td>0.0</td>\n",
       "      <td>0.0</td>\n",
       "      <td>1.0</td>\n",
       "      <td>2022.0</td>\n",
       "      <td>A</td>\n",
       "      <td>2.0</td>\n",
       "      <td>489400</td>\n",
       "    </tr>\n",
       "    <tr>\n",
       "      <th>1</th>\n",
       "      <td>1</td>\n",
       "      <td>Rio de Janeiro</td>\n",
       "      <td>Brazil</td>\n",
       "      <td>Apple iPhone</td>\n",
       "      <td>Apple iPhone 11 Pro Max</td>\n",
       "      <td>ios 15.4.1</td>\n",
       "      <td>iOS</td>\n",
       "      <td>Rio de Janeiro</td>\n",
       "      <td>Tribunal, Administrativa</td>\n",
       "      <td>NaN</td>\n",
       "      <td>...</td>\n",
       "      <td>4126.0</td>\n",
       "      <td>13.0</td>\n",
       "      <td>1.0</td>\n",
       "      <td>0.0</td>\n",
       "      <td>0.0</td>\n",
       "      <td>1.0</td>\n",
       "      <td>2022.0</td>\n",
       "      <td>C</td>\n",
       "      <td>2.0</td>\n",
       "      <td>489399</td>\n",
       "    </tr>\n",
       "  </tbody>\n",
       "</table>\n",
       "<p>2 rows × 32 columns</p>\n",
       "</div>"
      ],
      "text/plain": [
       "   novo_user_id            city country        device  \\\n",
       "0             1  Rio de Janeiro  Brazil  Apple iPhone   \n",
       "1             1  Rio de Janeiro  Brazil  Apple iPhone   \n",
       "\n",
       "               device_type          os platform          region  \\\n",
       "0  Apple iPhone 11 Pro Max  ios 15.4.1      iOS  Rio de Janeiro   \n",
       "1  Apple iPhone 11 Pro Max  ios 15.4.1      iOS  Rio de Janeiro   \n",
       "\n",
       "                 gp:carrers gp:college type  ... institute_id  \\\n",
       "0  Tribunal, Administrativa             NaN  ...       4126.0   \n",
       "1  Tribunal, Administrativa             NaN  ...       4126.0   \n",
       "\n",
       "  knowledge_area_id modality_id nullified outdated  product_id  \\\n",
       "0              13.0         1.0       0.0      0.0         1.0   \n",
       "1              13.0         1.0       0.0      0.0         1.0   \n",
       "\n",
       "  publication_year  right_answer  scholarity_id  novo_question_id  \n",
       "0           2022.0             A            2.0            489400  \n",
       "1           2022.0             C            2.0            489399  \n",
       "\n",
       "[2 rows x 32 columns]"
      ]
     },
     "execution_count": 7,
     "metadata": {},
     "output_type": "execute_result"
    }
   ],
   "source": [
    "dt.head(2)"
   ]
  },
  {
   "cell_type": "code",
   "execution_count": 8,
   "metadata": {},
   "outputs": [
    {
     "data": {
      "text/html": [
       "<div>\n",
       "<style scoped>\n",
       "    .dataframe tbody tr th:only-of-type {\n",
       "        vertical-align: middle;\n",
       "    }\n",
       "\n",
       "    .dataframe tbody tr th {\n",
       "        vertical-align: top;\n",
       "    }\n",
       "\n",
       "    .dataframe thead th {\n",
       "        text-align: right;\n",
       "    }\n",
       "</style>\n",
       "<table border=\"1\" class=\"dataframe\">\n",
       "  <thead>\n",
       "    <tr style=\"text-align: right;\">\n",
       "      <th></th>\n",
       "      <th>novo_user_id</th>\n",
       "      <th>city</th>\n",
       "      <th>country</th>\n",
       "      <th>device</th>\n",
       "      <th>device_type</th>\n",
       "      <th>os</th>\n",
       "      <th>platform</th>\n",
       "      <th>region</th>\n",
       "      <th>gp:carrers</th>\n",
       "      <th>gp:college type</th>\n",
       "      <th>...</th>\n",
       "      <th>institute_id</th>\n",
       "      <th>knowledge_area_id</th>\n",
       "      <th>modality_id</th>\n",
       "      <th>nullified</th>\n",
       "      <th>outdated</th>\n",
       "      <th>product_id</th>\n",
       "      <th>publication_year</th>\n",
       "      <th>right_answer</th>\n",
       "      <th>scholarity_id</th>\n",
       "      <th>novo_question_id</th>\n",
       "    </tr>\n",
       "  </thead>\n",
       "  <tbody>\n",
       "    <tr>\n",
       "      <th>0</th>\n",
       "      <td>1</td>\n",
       "      <td>Rio de Janeiro</td>\n",
       "      <td>Brazil</td>\n",
       "      <td>Apple iPhone</td>\n",
       "      <td>Apple iPhone 11 Pro Max</td>\n",
       "      <td>ios 15.4.1</td>\n",
       "      <td>iOS</td>\n",
       "      <td>Rio de Janeiro</td>\n",
       "      <td>Tribunal, Administrativa</td>\n",
       "      <td>NaN</td>\n",
       "      <td>...</td>\n",
       "      <td>6289.0</td>\n",
       "      <td>13.0</td>\n",
       "      <td>1.0</td>\n",
       "      <td>0.0</td>\n",
       "      <td>0.0</td>\n",
       "      <td>1.0</td>\n",
       "      <td>2021.0</td>\n",
       "      <td>B</td>\n",
       "      <td>3.0</td>\n",
       "      <td>484766</td>\n",
       "    </tr>\n",
       "    <tr>\n",
       "      <th>1</th>\n",
       "      <td>2</td>\n",
       "      <td>São Paulo</td>\n",
       "      <td>Brazil</td>\n",
       "      <td>Windows</td>\n",
       "      <td>Windows</td>\n",
       "      <td>Chrome 104</td>\n",
       "      <td>Web</td>\n",
       "      <td>Sao Paulo</td>\n",
       "      <td>Tribunal</td>\n",
       "      <td>NaN</td>\n",
       "      <td>...</td>\n",
       "      <td>2994.0</td>\n",
       "      <td>53.0</td>\n",
       "      <td>1.0</td>\n",
       "      <td>0.0</td>\n",
       "      <td>0.0</td>\n",
       "      <td>1.0</td>\n",
       "      <td>2016.0</td>\n",
       "      <td>C</td>\n",
       "      <td>3.0</td>\n",
       "      <td>159545</td>\n",
       "    </tr>\n",
       "  </tbody>\n",
       "</table>\n",
       "<p>2 rows × 32 columns</p>\n",
       "</div>"
      ],
      "text/plain": [
       "   novo_user_id            city country        device  \\\n",
       "0             1  Rio de Janeiro  Brazil  Apple iPhone   \n",
       "1             2       São Paulo  Brazil       Windows   \n",
       "\n",
       "               device_type          os platform          region  \\\n",
       "0  Apple iPhone 11 Pro Max  ios 15.4.1      iOS  Rio de Janeiro   \n",
       "1                  Windows  Chrome 104      Web       Sao Paulo   \n",
       "\n",
       "                 gp:carrers gp:college type  ... institute_id  \\\n",
       "0  Tribunal, Administrativa             NaN  ...       6289.0   \n",
       "1                  Tribunal             NaN  ...       2994.0   \n",
       "\n",
       "  knowledge_area_id modality_id nullified outdated  product_id  \\\n",
       "0              13.0         1.0       0.0      0.0         1.0   \n",
       "1              53.0         1.0       0.0      0.0         1.0   \n",
       "\n",
       "  publication_year  right_answer  scholarity_id  novo_question_id  \n",
       "0           2021.0             B            3.0            484766  \n",
       "1           2016.0             C            3.0            159545  \n",
       "\n",
       "[2 rows x 32 columns]"
      ]
     },
     "execution_count": 8,
     "metadata": {},
     "output_type": "execute_result"
    }
   ],
   "source": [
    "dtsubmit.head(2)"
   ]
  },
  {
   "cell_type": "code",
   "execution_count": 4,
   "metadata": {},
   "outputs": [
    {
     "name": "stdout",
     "output_type": "stream",
     "text": [
      "2000000\n",
      "20000\n"
     ]
    }
   ],
   "source": [
    "print(len(dt))\n",
    "print(len(dtsubmit))"
   ]
  },
  {
   "cell_type": "code",
   "execution_count": 5,
   "metadata": {},
   "outputs": [],
   "source": [
    "dt['train'] = 1\n",
    "dtsubmit['train'] = 0\n",
    "dt = pd.concat([dt, dtsubmit])"
   ]
  },
  {
   "cell_type": "code",
   "execution_count": 6,
   "metadata": {},
   "outputs": [],
   "source": [
    "dt.city = pd.Categorical(dt.city)\n",
    "dt.country = pd.Categorical(dt.country)\n",
    "dt.device = pd.Categorical(dt.device)\n",
    "dt.device_type = pd.Categorical(dt.device_type)\n",
    "dt.os = pd.Categorical(dt.os)\n",
    "dt.platform = pd.Categorical(dt.platform)\n",
    "dt.region = pd.Categorical(dt.region)\n",
    "dt['gp:carrers'] = pd.Categorical(dt['gp:carrers'])\n",
    "dt['gp:college type'] = pd.Categorical(dt['gp:college type'])\n",
    "dt['gp:degree course'] = pd.Categorical(dt['gp:degree course'])\n",
    "dt['gp:previous experience'] = pd.Categorical(dt['gp:previous experience'])\n",
    "dt['gp:school type'] = pd.Categorical(dt['gp:school type'])\n",
    "dt['gp:segment'] = pd.Categorical(dt['gp:segment'])\n",
    "dt['gp:source_project'] = pd.Categorical(dt['gp:source_project'])\n"
   ]
  },
  {
   "cell_type": "code",
   "execution_count": 7,
   "metadata": {},
   "outputs": [],
   "source": [
    "dt['city2'] = dt.city.cat.codes\n",
    "dt['country2'] = dt.country.cat.codes\n",
    "dt['device2'] = dt.device.cat.codes\n",
    "dt['device_type2'] = dt.device_type.cat.codes\n",
    "dt['os2'] = dt.os.cat.codes\n",
    "dt['platform2'] = dt.platform.cat.codes\n",
    "dt['region2'] = dt.region.cat.codes\n",
    "dt['gp:carrers2'] = dt['gp:carrers'].cat.codes\n",
    "dt['gp:college type2'] = dt['gp:college type'].cat.codes\n",
    "dt['gp:degree course2'] = dt['gp:degree course'].cat.codes\n",
    "dt['gp:previous experience2'] = dt['gp:previous experience'].cat.codes\n",
    "dt['gp:school type2'] = dt['gp:school type'].cat.codes\n",
    "dt['gp:segment2'] = dt['gp:segment'].cat.codes\n",
    "dt['gp:source_project2'] = dt['gp:source_project'].cat.codes\n"
   ]
  },
  {
   "cell_type": "code",
   "execution_count": 8,
   "metadata": {},
   "outputs": [],
   "source": [
    "dt['right_answer'] = dt['right_answer'].replace(['A', 'B', 'C', 'D', 'E'], [0, 1, 2, 3, 4])"
   ]
  },
  {
   "cell_type": "code",
   "execution_count": 9,
   "metadata": {},
   "outputs": [],
   "source": [
    "dt = dt.replace('*', 0)\n",
    "dt = dt.replace('X', 0)\n",
    "dt = dt.replace('+', 0)\n"
   ]
  },
  {
   "cell_type": "code",
   "execution_count": 10,
   "metadata": {},
   "outputs": [],
   "source": [
    "groupby = dt.groupby('novo_user_id').agg({'acertou':'mean'})\n",
    "\n",
    "groupby = groupby.reset_index()\n",
    "groupby.rename(columns = {'acertou':'mean_acertou'}, inplace = True)\n",
    "\n",
    "dt = pd.merge(dt, groupby[['novo_user_id', 'mean_acertou']], on='novo_user_id')\n"
   ]
  },
  {
   "cell_type": "code",
   "execution_count": 11,
   "metadata": {},
   "outputs": [],
   "source": [
    "from sklearn.model_selection import train_test_split\n",
    "from sklearn.metrics import (accuracy_score, confusion_matrix)\n",
    "from sklearn.utils import shuffle"
   ]
  },
  {
   "cell_type": "code",
   "execution_count": 12,
   "metadata": {},
   "outputs": [],
   "source": [
    "dtsubmit = dt[dt.train == 0]\n",
    "dt = dt[dt.train == 1]\n"
   ]
  },
  {
   "cell_type": "code",
   "execution_count": 20,
   "metadata": {},
   "outputs": [],
   "source": [
    "\n",
    "X = dt[['difficulty', 'gp:carrers2', 'right_answer', 'scholarity_id', 'platform2', 'commented_by_professor',\n",
    "         'city2', 'institute_id', 'discipline_id', 'region2', 'os2', 'publication_year', 'mean_acertou']]\n",
    "\n",
    "\n",
    "X = X.fillna(0)\n",
    "X = X.astype(int)\n",
    "y = dt['acertou']\n",
    "\n",
    "X_train, X_test, y_train, y_test = train_test_split(X, y, test_size=0.2, random_state=1)"
   ]
  },
  {
   "cell_type": "code",
   "execution_count": 15,
   "metadata": {},
   "outputs": [
    {
     "data": {
      "text/html": [
       "<style>#sk-container-id-1 {color: black;background-color: white;}#sk-container-id-1 pre{padding: 0;}#sk-container-id-1 div.sk-toggleable {background-color: white;}#sk-container-id-1 label.sk-toggleable__label {cursor: pointer;display: block;width: 100%;margin-bottom: 0;padding: 0.3em;box-sizing: border-box;text-align: center;}#sk-container-id-1 label.sk-toggleable__label-arrow:before {content: \"▸\";float: left;margin-right: 0.25em;color: #696969;}#sk-container-id-1 label.sk-toggleable__label-arrow:hover:before {color: black;}#sk-container-id-1 div.sk-estimator:hover label.sk-toggleable__label-arrow:before {color: black;}#sk-container-id-1 div.sk-toggleable__content {max-height: 0;max-width: 0;overflow: hidden;text-align: left;background-color: #f0f8ff;}#sk-container-id-1 div.sk-toggleable__content pre {margin: 0.2em;color: black;border-radius: 0.25em;background-color: #f0f8ff;}#sk-container-id-1 input.sk-toggleable__control:checked~div.sk-toggleable__content {max-height: 200px;max-width: 100%;overflow: auto;}#sk-container-id-1 input.sk-toggleable__control:checked~label.sk-toggleable__label-arrow:before {content: \"▾\";}#sk-container-id-1 div.sk-estimator input.sk-toggleable__control:checked~label.sk-toggleable__label {background-color: #d4ebff;}#sk-container-id-1 div.sk-label input.sk-toggleable__control:checked~label.sk-toggleable__label {background-color: #d4ebff;}#sk-container-id-1 input.sk-hidden--visually {border: 0;clip: rect(1px 1px 1px 1px);clip: rect(1px, 1px, 1px, 1px);height: 1px;margin: -1px;overflow: hidden;padding: 0;position: absolute;width: 1px;}#sk-container-id-1 div.sk-estimator {font-family: monospace;background-color: #f0f8ff;border: 1px dotted black;border-radius: 0.25em;box-sizing: border-box;margin-bottom: 0.5em;}#sk-container-id-1 div.sk-estimator:hover {background-color: #d4ebff;}#sk-container-id-1 div.sk-parallel-item::after {content: \"\";width: 100%;border-bottom: 1px solid gray;flex-grow: 1;}#sk-container-id-1 div.sk-label:hover label.sk-toggleable__label {background-color: #d4ebff;}#sk-container-id-1 div.sk-serial::before {content: \"\";position: absolute;border-left: 1px solid gray;box-sizing: border-box;top: 0;bottom: 0;left: 50%;z-index: 0;}#sk-container-id-1 div.sk-serial {display: flex;flex-direction: column;align-items: center;background-color: white;padding-right: 0.2em;padding-left: 0.2em;position: relative;}#sk-container-id-1 div.sk-item {position: relative;z-index: 1;}#sk-container-id-1 div.sk-parallel {display: flex;align-items: stretch;justify-content: center;background-color: white;position: relative;}#sk-container-id-1 div.sk-item::before, #sk-container-id-1 div.sk-parallel-item::before {content: \"\";position: absolute;border-left: 1px solid gray;box-sizing: border-box;top: 0;bottom: 0;left: 50%;z-index: -1;}#sk-container-id-1 div.sk-parallel-item {display: flex;flex-direction: column;z-index: 1;position: relative;background-color: white;}#sk-container-id-1 div.sk-parallel-item:first-child::after {align-self: flex-end;width: 50%;}#sk-container-id-1 div.sk-parallel-item:last-child::after {align-self: flex-start;width: 50%;}#sk-container-id-1 div.sk-parallel-item:only-child::after {width: 0;}#sk-container-id-1 div.sk-dashed-wrapped {border: 1px dashed gray;margin: 0 0.4em 0.5em 0.4em;box-sizing: border-box;padding-bottom: 0.4em;background-color: white;}#sk-container-id-1 div.sk-label label {font-family: monospace;font-weight: bold;display: inline-block;line-height: 1.2em;}#sk-container-id-1 div.sk-label-container {text-align: center;}#sk-container-id-1 div.sk-container {/* jupyter's `normalize.less` sets `[hidden] { display: none; }` but bootstrap.min.css set `[hidden] { display: none !important; }` so we also need the `!important` here to be able to override the default hidden behavior on the sphinx rendered scikit-learn.org. See: https://github.com/scikit-learn/scikit-learn/issues/21755 */display: inline-block !important;position: relative;}#sk-container-id-1 div.sk-text-repr-fallback {display: none;}</style><div id=\"sk-container-id-1\" class=\"sk-top-container\"><div class=\"sk-text-repr-fallback\"><pre>RandomForestClassifier(random_state=0)</pre><b>In a Jupyter environment, please rerun this cell to show the HTML representation or trust the notebook. <br />On GitHub, the HTML representation is unable to render, please try loading this page with nbviewer.org.</b></div><div class=\"sk-container\" hidden><div class=\"sk-item\"><div class=\"sk-estimator sk-toggleable\"><input class=\"sk-toggleable__control sk-hidden--visually\" id=\"sk-estimator-id-1\" type=\"checkbox\" checked><label for=\"sk-estimator-id-1\" class=\"sk-toggleable__label sk-toggleable__label-arrow\">RandomForestClassifier</label><div class=\"sk-toggleable__content\"><pre>RandomForestClassifier(random_state=0)</pre></div></div></div></div></div>"
      ],
      "text/plain": [
       "RandomForestClassifier(random_state=0)"
      ]
     },
     "execution_count": 15,
     "metadata": {},
     "output_type": "execute_result"
    }
   ],
   "source": [
    "from sklearn.ensemble import RandomForestClassifier\n",
    "\n",
    "feature_names = ['difficulty', 'gp:carrers2', 'right_answer', 'scholarity_id', 'platform2', 'commented_by_professor',\n",
    "         'city2', 'institute_id', 'discipline_id', 'region2', 'os2', 'publication_year']\n",
    "forest = RandomForestClassifier(random_state=0)\n",
    "forest.fit(X_train, y_train)"
   ]
  },
  {
   "cell_type": "code",
   "execution_count": 16,
   "metadata": {},
   "outputs": [],
   "source": [
    "importances = forest.feature_importances_\n",
    "std = np.std([tree.feature_importances_ for tree in forest.estimators_], axis=0)"
   ]
  },
  {
   "cell_type": "code",
   "execution_count": 17,
   "metadata": {},
   "outputs": [
    {
     "data": {
      "image/png": "[encoded data removed]",
      "text/plain": [
       "<Figure size 432x288 with 1 Axes>"
      ]
     },
     "metadata": {
      "needs_background": "light"
     },
     "output_type": "display_data"
    }
   ],
   "source": [
    "forest_importances = pd.Series(importances, index=feature_names)\n",
    "\n",
    "fig, ax = plt.subplots()\n",
    "forest_importances.plot.bar(yerr=std, ax=ax)\n",
    "ax.set_title(\"Feature importances using MDI\")\n",
    "ax.set_ylabel(\"Mean decrease in impurity\")\n",
    "fig.tight_layout()"
   ]
  },
  {
   "cell_type": "code",
   "execution_count": 30,
   "metadata": {},
   "outputs": [],
   "source": [
    "def fit_and_graph():\n",
    "    sns.set(rc = {'figure.figsize':(4, 4)})\n",
    "\n",
    "    abc.fit(X_train, y_train)\n",
    "    y_pred = abc.predict(X_test)\n",
    "\n",
    "    acc = accuracy_score(y_pred, y_test)\n",
    "    print('accuracy: ', acc)\n",
    "\n",
    "    cm = confusion_matrix(y_test, y_pred)\n",
    "    sns.heatmap(cm, annot=True, fmt='d')"
   ]
  },
  {
   "cell_type": "code",
   "execution_count": 14,
   "metadata": {},
   "outputs": [],
   "source": [
    "from sklearn.ensemble import IsolationForest"
   ]
  },
  {
   "cell_type": "code",
   "execution_count": null,
   "metadata": {},
   "outputs": [],
   "source": [
    "columns = ['difficulty', 'right_answer',  'institute_id', 'discipline_id', 'os2', 'mean_acertou']\n",
    "\n",
    "percentages = []\n",
    "\n",
    "for column in columns:\n",
    "\n",
    "    model=IsolationForest(n_estimators=50, max_samples=2000000, contamination=float(0.1),max_features=1.0, random_state=20)\n",
    "    model.fit(X[[column]].values)\n",
    "\n",
    "    new_column = str(column+'_anomaly')\n",
    "    X[new_column]=model.predict(X[['difficulty']])\n",
    "\n",
    "    anomaly=X.loc[X[new_column]==-1]\n",
    "\n",
    "    cant_anomaly = int(anomaly.iloc[:, :1].count())\n",
    "\n",
    "    percentage = ('percentage of ', column,' outliers : ', ( (cant_anomaly) * 100 / len(X[new_column]) ).real )\n",
    "    \n",
    "    percentages.append(percentage)"
   ]
  },
  {
   "cell_type": "code",
   "execution_count": 22,
   "metadata": {},
   "outputs": [
    {
     "data": {
      "text/plain": [
       "[('percentage of ', 'difficulty', ' outliers : ', 4.4702),\n",
       " ('percentage of ', 'right_answer', ' outliers : ', 0.0),\n",
       " ('percentage of ', 'institute_id', ' outliers : ', 0.13145),\n",
       " ('percentage of ', 'discipline_id', ' outliers : ', 0.13145),\n",
       " ('percentage of ', 'os2', ' outliers : ', 0.13145),\n",
       " ('percentage of ', 'mean_acertou', ' outliers : ', 99.86855)]"
      ]
     },
     "execution_count": 22,
     "metadata": {},
     "output_type": "execute_result"
    }
   ],
   "source": [
    "percentages"
   ]
  },
  {
   "cell_type": "code",
   "execution_count": 23,
   "metadata": {},
   "outputs": [],
   "source": [
    "newdt = pd.concat([X, y], axis=1)"
   ]
  },
  {
   "cell_type": "code",
   "execution_count": 24,
   "metadata": {},
   "outputs": [
    {
     "data": {
      "text/plain": [
       "2000000"
      ]
     },
     "execution_count": 24,
     "metadata": {},
     "output_type": "execute_result"
    }
   ],
   "source": [
    "newdt['acertou'].count()"
   ]
  },
  {
   "cell_type": "code",
   "execution_count": 25,
   "metadata": {},
   "outputs": [],
   "source": [
    "newdt = newdt[newdt.difficulty_anomaly != -1]\n",
    "newdt = newdt[newdt.right_answer_anomaly != -1]\n",
    "newdt = newdt[newdt.institute_id_anomaly != -1]\n",
    "newdt = newdt[newdt.discipline_id_anomaly != -1]\n",
    "newdt = newdt[newdt.os2_anomaly != -1]"
   ]
  },
  {
   "cell_type": "code",
   "execution_count": 26,
   "metadata": {},
   "outputs": [
    {
     "data": {
      "text/plain": [
       "1910596"
      ]
     },
     "execution_count": 26,
     "metadata": {},
     "output_type": "execute_result"
    }
   ],
   "source": [
    "newdt['acertou'].count()"
   ]
  },
  {
   "cell_type": "code",
   "execution_count": 65,
   "metadata": {},
   "outputs": [],
   "source": [
    "\n",
    "X = newdt[['difficulty', 'gp:carrers2', 'right_answer', 'scholarity_id', 'commented_by_professor',\n",
    "         'institute_id', 'discipline_id', 'os2', 'mean_acertou']]\n",
    "\n",
    "         \n",
    "y = newdt['acertou']\n",
    "\n",
    "X_train, X_test, y_train, y_test = train_test_split(X, y, test_size=0.1, random_state=1)"
   ]
  },
  {
   "cell_type": "code",
   "execution_count": 68,
   "metadata": {},
   "outputs": [
    {
     "name": "stdout",
     "output_type": "stream",
     "text": [
      "accuracy:  0.6836124777556788\n"
     ]
    },
    {
     "data": {
      "image/png": "[encoded data removed]",
      "text/plain": [
       "<Figure size 288x288 with 2 Axes>"
      ]
     },
     "metadata": {},
     "output_type": "display_data"
    }
   ],
   "source": [
    "from sklearn.ensemble import BaggingClassifier\n",
    "from sklearn.ensemble import GradientBoostingClassifier\n",
    "\n",
    "abc = BaggingClassifier(base_estimator=\n",
    "                        GradientBoostingClassifier(n_estimators = 330, min_samples_split=2, learning_rate=0.07),\n",
    "                         n_estimators=5)\n",
    "\n",
    "fit_and_graph()"
   ]
  },
  {
   "cell_type": "code",
   "execution_count": 69,
   "metadata": {},
   "outputs": [],
   "source": [
    "Xsubmit = dtsubmit[['difficulty', 'gp:carrers2', 'right_answer', 'scholarity_id', 'commented_by_professor',\n",
    "                    'institute_id', 'discipline_id', 'os2', 'mean_acertou']]\n",
    "Xsubmit = Xsubmit.fillna(0)\n",
    "\n",
    "ysubmit = abc.predict(Xsubmit).astype(int)\n",
    "ysubmit = pd.DataFrame(ysubmit)"
   ]
  },
  {
   "cell_type": "code",
   "execution_count": 70,
   "metadata": {},
   "outputs": [],
   "source": [
    "ysubmit.to_csv('ysubmit.csv', index=False, header=False)"
   ]
  },
  {
   "cell_type": "markdown",
   "metadata": {},
   "source": [
    "*** final score in the competition: 0.80259 ***"
   ]
  }
 ],
 "metadata": {
  "kernelspec": {
   "display_name": "Python 3",
   "language": "python",
   "name": "python3"
  },
  "language_info": {
   "codemirror_mode": {
    "name": "ipython",
    "version": 3
   },
   "file_extension": ".py",
   "mimetype": "text/x-python",
   "name": "python",
   "nbconvert_exporter": "python",
   "pygments_lexer": "ipython3",
   "version": "3.10.8"
  },
  "orig_nbformat": 4,
  "vscode": {
   "interpreter": {
    "hash": "e7370f93d1d0cde622a1f8e1c04877d8463912d04d973331ad4851f04de6915a"
   }
  }
 },
 "nbformat": 4,
 "nbformat_minor": 2
}
